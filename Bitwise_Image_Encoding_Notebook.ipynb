{
 "cells": [
  {
   "cell_type": "code",
   "execution_count": 30,
   "id": "4bfc34c1",
   "metadata": {},
   "outputs": [],
   "source": [
    "import cv2\n",
    "import numpy as np\n",
    "from PIL import Image\n",
    "from io import BytesIO\n",
    "import ipywidgets as widgets\n",
    "from IPython.display import display\n",
    "from notebookHelper import *"
   ]
  },
  {
   "cell_type": "code",
   "execution_count": 31,
   "id": "ae4ad5fc",
   "metadata": {},
   "outputs": [
    {
     "data": {
      "application/vnd.jupyter.widget-view+json": {
       "model_id": "80773f901582448c95d2534fcbd7b52c",
       "version_major": 2,
       "version_minor": 0
      },
      "text/plain": [
       "Tab(children=(HBox(children=(VBox(children=(Label(value='Key Image'), FileUpload(value=(), accept='image/*', d…"
      ]
     },
     "metadata": {},
     "output_type": "display_data"
    },
    {
     "name": "stdout",
     "output_type": "stream",
     "text": [
      "{'name': 'value', 'old': 0, 'new': 2, 'owner': IntSlider(value=2, max=8, step=2), 'type': 'change'}\n",
      "{'name': 'value', 'old': 2, 'new': 4, 'owner': IntSlider(value=4, max=8, step=2), 'type': 'change'}\n",
      "{'name': 'value', 'old': 4, 'new': 2, 'owner': IntSlider(value=2, max=8, step=2), 'type': 'change'}\n",
      "{'name': 'value', 'old': 2, 'new': 0, 'owner': IntSlider(value=0, max=8, step=2), 'type': 'change'}\n"
     ]
    }
   ],
   "source": [
    "\n",
    "# Layout ayarlarını tanımla\n",
    "tab_layout = widgets.Layout(width='1000px', height='800px')  # Boyutları ayarla\n",
    "image_preview_layout=widgets.Layout(width='400px', height='400px')  # Boyutları ayarla\n",
    "# Görüntü widget'ları ve etiketler\n",
    "\n",
    "\n",
    "key_image_viewer = widgets.Image(format='png',layout=image_preview_layout)\n",
    "key_file_name = widgets.Label(\"Dosya seçilmedi\")\n",
    "key_trackbar_label = widgets.Label(\"2 bit start index: \")\n",
    "key_trackbar = widgets.IntSlider(min=0, max=8, step=2)\n",
    "key_trackbar.observe(lambda change: on_trackbar_change(change, key_trackbar_label), names='value')\n",
    "\n",
    "message_image_viewer = widgets.Image(format='png',layout=image_preview_layout)\n",
    "message_file_name = widgets.Label(\"Dosya seçilmedi\")\n",
    "\n",
    "\n",
    "\n",
    "\n",
    "# İlk sekme için resim yükleme butonu ve içerik\n",
    "upload_button1 = widgets.FileUpload(\n",
    "    accept='image/*',  # Sadece görüntü dosyalarını kabul et\n",
    "    multiple=False  # Tek bir dosya kabul et\n",
    ")\n",
    "upload_button1.observe(lambda change: on_file_upload(change, key_image_viewer, key_file_name), names='value')\n",
    "\n",
    "key_child= widgets.VBox([\n",
    "    widgets.Label(\"Key Image\"),\n",
    "    upload_button1,\n",
    "    key_file_name,\n",
    "    key_image_viewer,\n",
    "    key_trackbar_label,\n",
    "    key_trackbar\n",
    "\n",
    "])\n",
    "\n",
    "\n",
    "# İkinci sekme için resim yükleme butonu ve içerik\n",
    "upload_button2 = widgets.FileUpload(\n",
    "    accept='image/*',  # Sadece görüntü dosyalarını kabul et\n",
    "    multiple=False  # Tek bir dosya kabul et\n",
    ")\n",
    "upload_button2.observe(lambda change: on_file_upload(change, message_image_viewer, message_file_name), names='value')\n",
    "\n",
    "message_child= widgets.VBox([\n",
    "    widgets.Label(\"Message Image\"),\n",
    "    upload_button2,\n",
    "    message_file_name,\n",
    "    message_image_viewer\n",
    "])\n",
    "tab1_content = widgets.HBox([\n",
    "    key_child,\n",
    "    message_child\n",
    "])\n",
    "tab2_content = widgets.VBox([\n",
    "    widgets.Label(\"Decoding\"),\n",
    "    upload_button2,\n",
    "    message_file_name,\n",
    "    message_image_viewer\n",
    "])\n",
    "\n",
    "# Sekmeleri oluştur\n",
    "tabs = widgets.Tab(children=[tab1_content, tab2_content], layout=tab_layout)\n",
    "\n",
    "# Sekme başlıklarını ayarla\n",
    "tabs.set_title(0, 'Encoding')\n",
    "tabs.set_title(1, 'Decoding')\n",
    "\n",
    "# Sekmeleri görüntüle\n",
    "display(tabs)\n"
   ]
  },
  {
   "cell_type": "code",
   "execution_count": null,
   "id": "5ba3e927",
   "metadata": {},
   "outputs": [],
   "source": []
  }
 ],
 "metadata": {
  "kernelspec": {
   "display_name": "Python 3 (ipykernel)",
   "language": "python",
   "name": "python3"
  },
  "language_info": {
   "codemirror_mode": {
    "name": "ipython",
    "version": 3
   },
   "file_extension": ".py",
   "mimetype": "text/x-python",
   "name": "python",
   "nbconvert_exporter": "python",
   "pygments_lexer": "ipython3",
   "version": "3.9.13"
  }
 },
 "nbformat": 4,
 "nbformat_minor": 5
}
