{
 "cells": [
  {
   "cell_type": "code",
   "execution_count": null,
   "id": "de565afd-6414-405c-9396-349719e79415",
   "metadata": {},
   "outputs": [],
   "source": []
  }
 ],
 "metadata": {
  "kernelspec": {
   "display_name": "",
   "name": ""
  },
  "language_info": {
   "name": ""
  }
 },
 "nbformat": 4,
 "nbformat_minor": 5
}
