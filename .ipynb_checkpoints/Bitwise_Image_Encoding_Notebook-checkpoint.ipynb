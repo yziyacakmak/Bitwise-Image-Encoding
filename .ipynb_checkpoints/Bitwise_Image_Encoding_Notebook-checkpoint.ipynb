{
 "cells": [
  {
   "cell_type": "code",
   "execution_count": 14,
   "id": "0eb91f17",
   "metadata": {},
   "outputs": [
    {
     "data": {
      "application/vnd.jupyter.widget-view+json": {
       "model_id": "0fab9455b02c4de29127e29ab8e13f8c",
       "version_major": 2,
       "version_minor": 0
      },
      "text/plain": [
       "FileUpload(value=(), description='Upload')"
      ]
     },
     "metadata": {},
     "output_type": "display_data"
    },
    {
     "data": {
      "application/vnd.jupyter.widget-view+json": {
       "model_id": "73c92dad83cb4a418ebea1d145789cc1",
       "version_major": 2,
       "version_minor": 0
      },
      "text/plain": [
       "Label(value='')"
      ]
     },
     "metadata": {},
     "output_type": "display_data"
    }
   ],
   "source": [
    "from ipywidgets import widgets\n",
    "uploader = widgets.FileUpload()\n",
    "label = widgets.Label(\"\")\n",
    "\n",
    "def on_upload_change(change):\n",
    "    label.value = \"Loaded\"\n",
    "\n",
    "uploader.observe(on_upload_change, names='value')\n",
    "\n",
    "display(uploader, label)"
   ]
  },
  {
   "cell_type": "code",
   "execution_count": 43,
   "id": "4bfc34c1",
   "metadata": {},
   "outputs": [
    {
     "data": {
      "application/vnd.jupyter.widget-view+json": {
       "model_id": "8cf9563664d445e0b98db29bdc74e56f",
       "version_major": 2,
       "version_minor": 0
      },
      "text/plain": [
       "Tab(children=(VBox(children=(Label(value='Encoding'), FileUpload(value=(), accept='image/*', description='Uplo…"
      ]
     },
     "metadata": {},
     "output_type": "display_data"
    }
   ],
   "source": [
    "import cv2\n",
    "import numpy as np\n",
    "from PIL import Image\n",
    "from io import BytesIO\n",
    "import ipywidgets as widgets\n",
    "from IPython.display import display\n",
    "\n",
    "# Layout ayarlarını tanımla\n",
    "tab_layout = widgets.Layout(width='1000px', height='800px')  # Boyutları ayarla\n",
    "\n",
    "image_preview_layout=widgets.Layout(width='400px', height='400px')\n",
    "\n",
    "# Görüntü widget'ları ve etiketler\n",
    "image_widget1 = widgets.Image(format='png')\n",
    "image_widget2 = widgets.Image(format='png')\n",
    "label1 = widgets.Label(\"Dosya seçilmedi\")\n",
    "label2 = widgets.Label(\"Dosya seçilmedi\")\n",
    "\n",
    "\n",
    "def show_popup(image_data):\n",
    "    display(Javascript(f'''\n",
    "        var img = new Image();\n",
    "        img.src = \"{image_data}\";\n",
    "        var w = window.open(\"\");\n",
    "        w.document.write(img.outerHTML);\n",
    "        '''))\n",
    "\n",
    "# Resim yükleme ve gösterme fonksiyonu\n",
    "def on_file_upload(change, image_widget, label_widget):\n",
    "    # Yüklenen dosya\n",
    "    uploaded_file = change[\"new\"][0]\n",
    "    print([\"name\"])\n",
    "    # uploaded_file = list(change.values())[0]\n",
    "    content = uploaded_file['content']\n",
    "    filename = uploaded_file['name']  # Dosya adını al\n",
    "\n",
    "    # Dosya adını etikete yaz\n",
    "    label_widget.value = f\"Seçilen dosya: {filename}\"\n",
    "\n",
    "    # OpenCV ile yüklenen dosyayı okuma\n",
    "    np_img = np.frombuffer(content, np.uint8)\n",
    "    image = cv2.imdecode(np_img, cv2.IMREAD_COLOR)\n",
    "\n",
    "     # OpenCV görüntüyü BGR formatında yükler, bunu RGB formatına çevirelim\n",
    "    image_rgb = cv2.cvtColor(image, cv2.COLOR_BGR2RGB)\n",
    "\n",
    "    # OpenCV görüntüsünü PIL görüntüsüne dönüştürelim\n",
    "    image_pil = Image.fromarray(image_rgb)\n",
    "\n",
    "    # PIL görüntüsünü bir buffer'a kaydedelim\n",
    "    buffer = BytesIO()\n",
    "    image_pil.save(buffer, format='PNG')\n",
    "    buffer.seek(0)\n",
    "\n",
    "    # ipywidgets.Image ile görüntüyü gösterelim\n",
    "    image_widget.value = buffer.getvalue()\n",
    "\n",
    "# İlk sekme için resim yükleme butonu ve içerik\n",
    "upload_button1 = widgets.FileUpload(\n",
    "    accept='image/*',  # Sadece görüntü dosyalarını kabul et\n",
    "    multiple=False  # Tek bir dosya kabul et\n",
    ")\n",
    "upload_button1.observe(lambda change: on_file_upload(change, image_widget1, label1), names='value')\n",
    "\n",
    "tab1_content = widgets.VBox([\n",
    "    widgets.Label(\"Encoding\"),\n",
    "    upload_button1,\n",
    "    label1,\n",
    "    image_widget1\n",
    "])\n",
    "\n",
    "# İkinci sekme için resim yükleme butonu ve içerik\n",
    "upload_button2 = widgets.FileUpload(\n",
    "    accept='image/*',  # Sadece görüntü dosyalarını kabul et\n",
    "    multiple=False  # Tek bir dosya kabul et\n",
    ")\n",
    "upload_button2.observe(lambda change: on_file_upload(change, image_widget2, label2), names='value')\n",
    "\n",
    "tab2_content = widgets.VBox([\n",
    "    widgets.Label(\"Decoding\"),\n",
    "    upload_button2,\n",
    "    label2,\n",
    "    image_widget2\n",
    "])\n",
    "\n",
    "# Sekmeleri oluştur\n",
    "tabs = widgets.Tab(children=[tab1_content, tab2_content], layout=tab_layout)\n",
    "\n",
    "# Sekme başlıklarını ayarla\n",
    "tabs.set_title(0, 'Encoding')\n",
    "tabs.set_title(1, 'Decoding')\n",
    "\n",
    "# Sekmeleri görüntüle\n",
    "display(tabs)\n"
   ]
  },
  {
   "cell_type": "code",
   "execution_count": null,
   "id": "5ba3e927",
   "metadata": {},
   "outputs": [],
   "source": []
  }
 ],
 "metadata": {
  "kernelspec": {
   "display_name": "Python 3 (ipykernel)",
   "language": "python",
   "name": "python3"
  },
  "language_info": {
   "codemirror_mode": {
    "name": "ipython",
    "version": 3
   },
   "file_extension": ".py",
   "mimetype": "text/x-python",
   "name": "python",
   "nbconvert_exporter": "python",
   "pygments_lexer": "ipython3",
   "version": "3.9.13"
  }
 },
 "nbformat": 4,
 "nbformat_minor": 5
}
